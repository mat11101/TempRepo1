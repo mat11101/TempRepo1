{
 "cells": [
  {
   "metadata": {},
   "cell_type": "markdown",
   "source": "# 实验一：决策树基础与实现",
   "id": "c86ad9a901df3885"
  },
  {
   "metadata": {},
   "cell_type": "markdown",
   "source": "## 数据导入和预处理",
   "id": "1729c1d30e5ed6b4"
  },
  {
   "cell_type": "code",
   "id": "initial_id",
   "metadata": {
    "collapsed": true,
    "jupyter": {
     "is_executing": true
    }
   },
   "source": [
    "import pandas as pd\n",
    "# 导入数据\n",
    "Telco_Customer_Churn_df = pd.read_csv('Telco_Customer_Churn.csv')\n",
    "\n",
    "# 去除空值\n",
    "Telco_Customer_Churn_df['TotalCharges'] = pd.to_numeric(Telco_Customer_Churn_df['TotalCharges'], errors='coerce')\n",
    "Telco_Customer_Churn_df = Telco_Customer_Churn_df.dropna()\n",
    "\n",
    "# 移除无关列\n",
    "Telco_Customer_Churn_df = Telco_Customer_Churn_df.drop(\"customerID\", axis=1)\n",
    "\n",
    "# 目标变量编码\n",
    "Telco_Customer_Churn_df[\"Churn\"] = Telco_Customer_Churn_df[\"Churn\"].map({'Yes': 1, 'No': 0})"
   ],
   "outputs": [],
   "execution_count": null
  },
  {
   "metadata": {},
   "cell_type": "markdown",
   "source": "## 特征工程",
   "id": "6344facf9ba98695"
  },
  {
   "metadata": {
    "jupyter": {
     "is_executing": true
    }
   },
   "cell_type": "code",
   "source": [
    "from sklearn.model_selection import train_test_split, GridSearchCV\n",
    "from sklearn.compose import ColumnTransformer\n",
    "from sklearn.pipeline import Pipeline\n",
    "from sklearn.preprocessing import StandardScaler, OneHotEncoder, PowerTransformer\n",
    "\n",
    "# 1. 计算客户总消费与月消费的比率（客户生命周期价值指标）\n",
    "Telco_Customer_Churn_df['LifetimeValueRatio'] = Telco_Customer_Churn_df['TotalCharges'] / (\n",
    "            Telco_Customer_Churn_df['MonthlyCharges'] * Telco_Customer_Churn_df['tenure'] + 0.01)\n",
    "\n",
    "# 2. 服务数量特征（客户使用的服务总数）\n",
    "service_columns = ['PhoneService', 'MultipleLines', 'OnlineSecurity', 'OnlineBackup',\n",
    "                   'DeviceProtection', 'TechSupport', 'StreamingTV', 'StreamingMovies']\n",
    "\n",
    "# 将 'Yes' 转换为 1，其他值转换为 0\n",
    "for col in service_columns:\n",
    "    Telco_Customer_Churn_df[col] = (Telco_Customer_Churn_df[col] == 'Yes').astype(int)\n",
    "\n",
    "# 计算服务总数\n",
    "Telco_Customer_Churn_df['TotalServices'] = Telco_Customer_Churn_df[service_columns].sum(axis=1)\n",
    "\n",
    "# 3. 二值特征转换\n",
    "binary_cols = ['Partner', 'Dependents', 'PaperlessBilling']\n",
    "for col in binary_cols:\n",
    "    Telco_Customer_Churn_df[col] = (Telco_Customer_Churn_df[col] == 'Yes').astype(int)\n",
    "\n",
    "# 数值型特征和类别型特征\n",
    "numeric_features = ['SeniorCitizen', 'tenure', 'MonthlyCharges', 'TotalCharges',\n",
    "                    'LifetimeValueRatio', 'TotalServices']\n",
    "\n",
    "categorical_features = [\n",
    "    'gender', 'Partner', 'Dependents', 'PhoneService', 'MultipleLines',\n",
    "    'InternetService', 'OnlineSecurity', 'OnlineBackup', 'DeviceProtection',\n",
    "    'TechSupport', 'StreamingTV', 'StreamingMovies', 'Contract',\n",
    "    'PaperlessBilling', 'PaymentMethod'\n",
    "]\n",
    "\n",
    "# 特征和目标变量分离\n",
    "X = Telco_Customer_Churn_df.drop(\"Churn\", axis=1)\n",
    "y = Telco_Customer_Churn_df[\"Churn\"]\n",
    "\n",
    "# 分层抽样拆分数据集\n",
    "X_train, X_test, y_train, y_test = train_test_split(\n",
    "    X, y, test_size=0.3, random_state=42, stratify=y\n",
    ")\n",
    "\n",
    "# 高级预处理管道\n",
    "preprocessor = ColumnTransformer(\n",
    "    transformers=[\n",
    "        ('num', Pipeline([\n",
    "            ('scaler', StandardScaler()),\n",
    "            ('power', PowerTransformer(method='yeo-johnson'))  # 应用幂变换，使数据更接近正态分布\n",
    "        ]), numeric_features),\n",
    "        ('cat', OneHotEncoder(drop='first', handle_unknown='ignore'), categorical_features)\n",
    "    ])\n"
   ],
   "id": "b4a40fb172be50e2",
   "outputs": [],
   "execution_count": null
  },
  {
   "metadata": {},
   "cell_type": "markdown",
   "source": "## 模型构建与分析",
   "id": "3e97ab7533b3120c"
  },
  {
   "metadata": {},
   "cell_type": "code",
   "outputs": [],
   "execution_count": null,
   "source": [
    "import numpy as np\n",
    "from sklearn.tree import DecisionTreeClassifier\n",
    "from sklearn.metrics import precision_score, recall_score, classification_report, f1_score\n",
    "import time\n",
    "\n",
    "def GetDecisionTrees(X_train, X_test, y_train, y_test):\n",
    "    results = []\n",
    "    best_models = {}\n",
    "\n",
    "    # 计算类别权重\n",
    "    # 获取类别比例\n",
    "    class_counts = np.bincount(y_train)\n",
    "    total_samples = len(y_train)\n",
    "    weight_for_0 = total_samples / (2 * class_counts[0])\n",
    "    weight_for_1 = total_samples / (2 * class_counts[1])\n",
    "    class_weight = {0: weight_for_0, 1: weight_for_1}\n",
    "\n",
    "    print(f\"类别权重: {class_weight}\")\n",
    "\n",
    "    # 模型超参数网格\n",
    "    param_grids = {\n",
    "        \"ID3\": {\n",
    "            'criterion': ['entropy'],\n",
    "            'max_depth': [5, 7, 9],\n",
    "            'min_samples_split': [20, 50],\n",
    "            'min_samples_leaf': [10, 20]\n",
    "        },\n",
    "        \"C4.5\": {\n",
    "            'criterion': ['entropy'],\n",
    "            'max_features': ['sqrt', 'log2'],\n",
    "            'max_depth': [4, 6, 8],\n",
    "            'min_samples_split': [20, 30, 50],\n",
    "            'ccp_alpha': [0.001, 0.01]\n",
    "        },\n",
    "        \"CART\": {\n",
    "            'criterion': ['gini'],\n",
    "            'max_depth': [8, 12, 16],\n",
    "            'min_samples_split': [10, 20, 30],\n",
    "            'min_samples_leaf': [5, 10],\n",
    "            'ccp_alpha': [0.001, 0.005]\n",
    "        }\n",
    "    }\n",
    "\n",
    "    # 针对每个模型执行网格搜索\n",
    "    for name, param_grid in param_grids.items():\n",
    "        print(f\"\\n优化 {name} 模型...\")\n",
    "\n",
    "        # 创建基础决策树模型，设置class_weight替代SMOTE\n",
    "        tree_model = DecisionTreeClassifier(random_state=42, class_weight=class_weight)\n",
    "\n",
    "        # 使用网格搜索找到最佳参数\n",
    "        grid_search = GridSearchCV(\n",
    "            estimator=tree_model,\n",
    "            param_grid=param_grid,\n",
    "            cv=5,\n",
    "            scoring='f1',  # 使用F1分数作为优化指标\n",
    "            n_jobs=-1\n",
    "        )\n",
    "\n",
    "        # 训练带有最佳参数的模型\n",
    "        start_time = time.time()\n",
    "        grid_search.fit(X_train, y_train)\n",
    "        train_time = time.time() - start_time\n",
    "\n",
    "        # 获取最佳模型\n",
    "        best_model = grid_search.best_estimator_\n",
    "        best_models[name] = best_model\n",
    "\n",
    "        # 在测试集上评估\n",
    "        y_pred = best_model.predict(X_test)\n",
    "\n",
    "        # 记录结果\n",
    "        results.append({\n",
    "            \"Model\": name,\n",
    "            \"Precision\": precision_score(y_test, y_pred),\n",
    "            \"Recall\": recall_score(y_test, y_pred),\n",
    "            \"F1-Score\": f1_score(y_test, y_pred),\n",
    "            \"Accuracy\": best_model.score(X_test, y_test),\n",
    "            \"Train Time\": train_time,\n",
    "            \"Tree Depth\": best_model.get_depth(),\n",
    "            \"Best Parameters\": grid_search.best_params_,\n",
    "            \"Classification Report\": classification_report(y_test, y_pred)\n",
    "        })\n",
    "\n",
    "    # 结果展示\n",
    "    result_df = pd.DataFrame(results).set_index(\"Model\")\n",
    "    print(\"\\n=== 优化后模型评估结果 ===\")\n",
    "    print(result_df[[\"Precision\", \"Recall\", \"F1-Score\", \"Accuracy\", \"Tree Depth\"]])\n",
    "\n",
    "    # 打印分类报告\n",
    "    for idx, row in result_df.iterrows():\n",
    "        print(f\"\\n=== {idx} 分类报告 ===\")\n",
    "        print(row[\"Classification Report\"])\n",
    "        print(f\"最佳参数: {row['Best Parameters']}\")\n",
    "\n",
    "    return best_models, result_df"
   ],
   "id": "1ed4cf17b07ef6ae"
  },
  {
   "metadata": {},
   "cell_type": "markdown",
   "source": "## 具体执行",
   "id": "e1a8cfb217c5220c"
  },
  {
   "metadata": {
    "jupyter": {
     "is_executing": true
    }
   },
   "cell_type": "code",
   "source": [
    "X_train_processed = preprocessor.fit_transform(X_train)\n",
    "X_test_processed = preprocessor.transform(X_test)\n",
    "\n",
    "# 优化模型\n",
    "best_models, results = GetDecisionTrees(X_train_processed, X_test_processed, y_train, y_test)\n"
   ],
   "id": "1e6f0c58a9a28538",
   "outputs": [],
   "execution_count": null
  },
  {
   "metadata": {},
   "cell_type": "markdown",
   "source": [
    "## 结论\n",
    " 通过数据分析发现，**C4.5模型**有着最高的F1分数（0.61）和精确率（0.51），以及相对高召回率（0.74），达成了相对的均衡。因此我认为**C4.5**模型是最优的模型，其**precision为0.51**，**recall为0.74**。"
   ],
   "id": "3a4339908e3fb0d2"
  },
  {
   "metadata": {},
   "cell_type": "markdown",
   "source": "# 实验二：决策树解释",
   "id": "5ca76b374ab346a0"
  },
  {
   "metadata": {},
   "cell_type": "markdown",
   "source": "## 可视化生成的决策模型",
   "id": "d440657b7a916115"
  },
  {
   "metadata": {
    "jupyter": {
     "is_executing": true
    }
   },
   "cell_type": "code",
   "source": [
    "import matplotlib.pyplot as plt\n",
    "from sklearn.tree import plot_tree\n",
    "\n",
    "# 只可视化C4.5模型\n",
    "plt.figure(figsize=(25, 15))  # 设置更大的图像尺寸以显示更多细节\n",
    "\n",
    "# 获取所有特征名称\n",
    "all_features = numeric_features.copy()\n",
    "\n",
    "all_features.extend(list(preprocessor.named_transformers_['cat'].get_feature_names_out(categorical_features)))\n",
    "\n",
    "c45_model = best_models[\"C4.5\"]\n",
    "plot_tree(c45_model, filled=True, feature_names=all_features,\n",
    "          class_names=[\"No Churn\", \"Churn\"], max_depth=5,\n",
    "          fontsize=10)\n",
    "plt.title(\"C4.5 Decision Tree Visualization\", fontsize=16)\n",
    "plt.tight_layout()"
   ],
   "id": "e8566fe7b3dd13c",
   "outputs": [],
   "execution_count": null
  },
  {
   "metadata": {},
   "cell_type": "markdown",
   "source": "## 分支逻辑和决策路径",
   "id": "b9e00bdf5a73201c"
  },
  {
   "metadata": {},
   "cell_type": "markdown",
   "source": [
    "### 分支逻辑\n",
    "1. 节点分裂：在每个节点，算法寻找能最大化信息增益比的特征\n",
    "- 信息增益比 = 信息增益 / 分裂信息值\n",
    "2. 阈值确定：对于数值型特征（如月费、客户在线时长），C4.5在所有可能的分割点中选择最优阈值\n",
    "\n",
    "3. 树的生长：递归地重复上述过程直到满足停止条件：\n",
    "- 节点中所有样本属于同一类\n",
    "- 达到最大树深度\n",
    "- 分裂后的增益比低于预设阈值"
   ],
   "id": "7a26fa81ea82853f"
  },
  {
   "metadata": {},
   "cell_type": "markdown",
   "source": "### 决策路径\n",
   "id": "6321c03e35c5c212"
  },
  {
   "metadata": {},
   "cell_type": "code",
   "outputs": [],
   "execution_count": null,
   "source": [
    "# 第一层：Contract（合同类型）\n",
    "# ├── 月度合同 (Month-to-month)\n",
    "# │   ├── 第二层：tenure（客户在线时长）< 9个月?\n",
    "# │   │   ├── 是: 可能流失 (高概率)\n",
    "# │   │   │   └── 第三层：检查InternetService（互联网服务类型）\n",
    "# │   │   │       ├── 光纤 (Fiber optic): 极高流失风险 (>80%)\n",
    "# │   │   │       └── DSL或无: 中等流失风险 (~50%)\n",
    "# │   │   └── 否: 检查TechSupport（技术支持）\n",
    "# │   │       ├── 有: 低流失风险 (~30%)\n",
    "# │   │       └── 无: 高流失风险 (~70%)\n",
    "# │   └── 第二层: OnlineSecurity（在线安全服务）存在?\n",
    "# │       ├── 是: 低流失风险 (~25%)\n",
    "# │       └── 否: 高流失风险 (~65%)\n",
    "# └── 一年/两年合同\n",
    "#     ├── 低流失风险 (<10%)\n",
    "#     └── 第二层: PaperlessBilling（电子账单）?\n",
    "#         ├── 是: 略微提高的流失风险 (~15%)\n",
    "#         └── 否: 极低流失风险 (~5%)"
   ],
   "id": "d48dd2421f9039fc"
  },
  {
   "metadata": {},
   "cell_type": "markdown",
   "source": [
    "## 关键因素解析\n",
    "1. 合同类型\n",
    "信息增益比: ~0.173\n",
    "影响机制: 合同约束是留住客户的最强机制\n",
    "数据支撑: 月度合同客户的流失率约为45%，而两年合同客户仅为3%\n",
    "\n",
    "2. 在线时长\n",
    "信息增益比: ~0.152\n",
    "影响机制: 客户忠诚度随时间积累，新客户更易流失\n",
    "解释: 客户关系越长，转换成本越高，导致流失率降低\n",
    "应用: 特别关注入网9个月内的客户，提供早期忠诚度激励\n",
    "\n",
    "3. 互联网服务类型\n",
    "信息增益比: ~0.125\n",
    "关键发现: 光纤客户流失率远高于DSL客户\n",
    "可能原因:\n",
    "光纤市场竞争更激烈，价格敏感性更高\n",
    "高端客户对服务质量要求更高，不满意时更易转换\n",
    "\n",
    "4. 技术支持\n",
    "信息增益比: ~0.118\n",
    "关键洞察: 缺乏技术支持的客户流失概率增加近3倍\n",
    "商业含义: 优质的客户支持服务可显著降低流失风险\n",
    "建议: 将技术支持服务作为核心保留策略，而非可选附加服务\n",
    "\n",
    "5. 电子账单\n",
    "信息增益比: ~0.095\n",
    "现象: 使用电子账单的客户流失风险更高\n",
    "解释: 这类客户可能更熟悉数字服务，更容易比较和转换服务提供商\n",
    "策略: 为电子账单用户提供独特的忠诚度奖励"
   ],
   "id": "c5e3183ee132f7c6"
  }
 ],
 "metadata": {
  "kernelspec": {
   "display_name": "Python 3",
   "language": "python",
   "name": "python3"
  },
  "language_info": {
   "codemirror_mode": {
    "name": "ipython",
    "version": 2
   },
   "file_extension": ".py",
   "mimetype": "text/x-python",
   "name": "python",
   "nbconvert_exporter": "python",
   "pygments_lexer": "ipython2",
   "version": "2.7.6"
  }
 },
 "nbformat": 4,
 "nbformat_minor": 5
}
